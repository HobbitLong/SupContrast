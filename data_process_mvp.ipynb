{
 "cells": [
  {
   "cell_type": "code",
   "execution_count": 19,
   "metadata": {},
   "outputs": [],
   "source": [
    "import os\n",
    "from PIL import Image\n",
    "import pandas as pd"
   ]
  },
  {
   "cell_type": "code",
   "execution_count": 5,
   "metadata": {},
   "outputs": [],
   "source": [
    "def save_csv(identity_selection, save_path, file_path):\n",
    "    if not os.path.exists(save_path):\n",
    "        os.makedirs(save_path)\n",
    "    identity_selection.to_csv(save_path + file_path, index=False)"
   ]
  },
  {
   "cell_type": "code",
   "execution_count": 6,
   "metadata": {},
   "outputs": [],
   "source": [
    "import random\n",
    "def get_data_uniformly(data, num_image=10):\n",
    "    random_choce = random.sample(data, num_image)\n",
    "    return random_choce"
   ]
  },
  {
   "cell_type": "code",
   "execution_count": 7,
   "metadata": {},
   "outputs": [],
   "source": [
    "def get_balanced_data(folder_path,race, race_label, image_per_id= 10):\n",
    "    coloumns = ['image_name', 'id', 'race']\n",
    "    race_folder = os.path.join(folder_path, race)\n",
    "    balanced_dataset = []\n",
    "\n",
    "    for id_folder in os.listdir(race_folder):\n",
    "        all_id_image = []\n",
    "\n",
    "        if not 'm.' in id_folder:\n",
    "            continue\n",
    "        id_path = os.path.join(race_folder, id_folder)\n",
    "        id = id_folder.split(\"/\")[0]\n",
    "\n",
    "        num_image = 0\n",
    "\n",
    "        for image in os.listdir(id_path):\n",
    "            num_image += 1\n",
    "        if num_image < image_per_id:\n",
    "            continue\n",
    "        else:\n",
    "            for image in os.listdir(id_path):\n",
    "                image_path = os.path.join(id_path, image)\n",
    "                all_id_image.append(image)\n",
    "        uniform_subset = get_data_uniformly(all_id_image, image_per_id)\n",
    "\n",
    "        for i, image in enumerate(uniform_subset):\n",
    "            image_name = image\n",
    "            balanced_dataset.append([image_name, id, race_label])\n",
    "    balanced_dataset = pd.DataFrame(balanced_dataset, columns=coloumns)\n",
    "    return balanced_dataset"
   ]
  },
  {
   "cell_type": "code",
   "execution_count": 8,
   "metadata": {},
   "outputs": [],
   "source": [
    "def pick_identity_uniformly(data, num_id=3000):\n",
    "    id_list = data['id'].unique()\n",
    "    random_id_list = random.sample(list(id_list), num_id)\n",
    "    #get all data from random_id_list\n",
    "    random_choice = data[data['id'].isin(random_id_list)]\n",
    "    random_choice = random_choice.reset_index(drop=True)\n",
    "    return random_choice"
   ]
  },
  {
   "cell_type": "code",
   "execution_count": 9,
   "metadata": {},
   "outputs": [],
   "source": [
    "def get_id_select(folder_path, race, race_label, image_per_id=10, num_id=3000):\n",
    "    print(\"Selecting IDs from\", race)\n",
    "    balanced_data = get_balanced_data(folder_path, race, race_label, image_per_id)\n",
    "    identity_selection = pick_identity_uniformly(balanced_data, num_id)\n",
    "    return identity_selection"
   ]
  },
  {
   "cell_type": "code",
   "execution_count": 10,
   "metadata": {},
   "outputs": [],
   "source": [
    "def mark_train_test(identity_selection, num_test_per_id=2):\n",
    "    result_df = identity_selection.copy()\n",
    "    result_df['split'] = 'train'\n",
    "    unique_ids = identity_selection['id'].unique()\n",
    "\n",
    "    for id in unique_ids:\n",
    "        test_indices = identity_selection[identity_selection['id'] == id].head(num_test_per_id).index\n",
    "        result_df.loc[test_indices, 'split'] = 'test'\n",
    "    return result_df"
   ]
  },
  {
   "cell_type": "code",
   "execution_count": 11,
   "metadata": {},
   "outputs": [],
   "source": [
    "from tqdm import tqdm \n",
    "\n",
    "def save_train_image(identity_selection, data_path, save_path, label_to_race):\n",
    "    if not os.path.exists(save_path):\n",
    "        os.makedirs(save_path)\n",
    "    \n",
    "    #make a copy of the identity_selection\n",
    "    identity_selection = identity_selection.copy()\n",
    "    identity_selection = identity_selection[identity_selection['split'] == 'train']\n",
    "\n",
    "    for _, row in tqdm(identity_selection.iterrows(), total=len(identity_selection), desc=\"Processing Images\"):\n",
    "        image_name = row['image_name']\n",
    "        id = row['id']\n",
    "        race = label_to_race[row['race']]\n",
    "\n",
    "        source_path = os.path.join(data_path, race, id, image_name)\n",
    "        identity_save_path = os.path.join(save_path, id)\n",
    "\n",
    "        # Create a subdirectory for the identity if it doesn't exist\n",
    "        if not os.path.exists(identity_save_path):\n",
    "            os.makedirs(identity_save_path)\n",
    "\n",
    "        destination_path = os.path.join(identity_save_path, image_name.replace('.jpg', '.png'))\n",
    "        \n",
    "        # Check if the image already exists\n",
    "        if os.path.exists(destination_path):\n",
    "            continue\n",
    "\n",
    "        # Open the image and save it in PNG format\n",
    "        with Image.open(source_path) as img:\n",
    "            img.save(destination_path, \"PNG\")\n",
    "\n",
    "    print('Finished copying and converting images to folder')"
   ]
  },
  {
   "cell_type": "code",
   "execution_count": 17,
   "metadata": {},
   "outputs": [],
   "source": [
    "'''\n",
    "data save to each race folder\n",
    "'''\n",
    "def save_test_image(identity_selection, data_path, save_path, label_to_race):\n",
    "    if not os.path.exists(save_path):\n",
    "        os.makedirs(save_path)    \n",
    "\n",
    "    identity_selection = identity_selection.copy()\n",
    "    identity_selection = identity_selection[identity_selection['split'] == 'test']\n",
    "\n",
    "    for _, row in tqdm(identity_selection.iterrows(), total=len(identity_selection), desc=\"Processing Images\"):\n",
    "        image_name = row['image_name']\n",
    "        id = row['id']\n",
    "        race = label_to_race[row['race']]\n",
    "\n",
    "        source_path = os.path.join(data_path, race, id, image_name)\n",
    "        #save to each race folder\n",
    "        race_path = os.path.join(save_path, race)\n",
    "\n",
    "        if not os.path.exists(race_path):\n",
    "            os.makedirs(race_path)\n",
    "\n",
    "        identity_save_path = os.path.join(race_path, id)\n",
    "\n",
    "        # Create a subdirectory for the identity if it doesn't exist\n",
    "        if not os.path.exists(identity_save_path):\n",
    "            os.makedirs(identity_save_path)\n",
    "\n",
    "        destination_path = os.path.join(identity_save_path, image_name.replace('.jpg', '.png'))\n",
    "        \n",
    "        # Check if the image already exists\n",
    "        if os.path.exists(destination_path):\n",
    "            continue\n",
    "\n",
    "        # Open the image and save it in PNG format\n",
    "        with Image.open(source_path) as img:\n",
    "            img.save(destination_path, \"PNG\")\n",
    "\n",
    "    print('Finished copying and converting images to folder')\n",
    "    "
   ]
  },
  {
   "cell_type": "code",
   "execution_count": 12,
   "metadata": {},
   "outputs": [],
   "source": [
    "def save_id_csv(data_folder_path, race_to_label, save_path, image_per_id=10, num_id=3000):\n",
    "    race_id_select = pd.DataFrame()\n",
    "    data_folder_path = data_folder_path + '/'\n",
    "\n",
    "    for race in race_to_label.keys():\n",
    "\n",
    "        race_label=race_to_label[race]\n",
    "\n",
    "        id_select = get_id_select(data_folder_path, race, race_label, image_per_id, num_id)\n",
    "        \n",
    "        #mark train and test\n",
    "        id_select = mark_train_test(id_select)\n",
    "        \n",
    "        race_id_select = pd.concat([race_id_select, id_select])\n",
    "\n",
    "    #save race_id_select to csv\n",
    "    save_csv(race_id_select, save_path+'/train', 'data.csv')"
   ]
  },
  {
   "cell_type": "code",
   "execution_count": 13,
   "metadata": {},
   "outputs": [],
   "source": [
    "#TODO: move data to cur folder\n",
    "data_folder_path = '/Users/nina/Desktop/ore_code/race_per_7000'\n",
    "save_path = './data/'\n",
    "image_per_id = 10\n",
    "num_id = 3000\n",
    "\n",
    "race_to_label = {'Caucasian': 0, 'Indian': 1, 'Asian': 2, 'African': 3}\n",
    "label_to_race = {0: 'Caucasian', 1: 'Indian', 2: 'Asian', 3: 'African'}"
   ]
  },
  {
   "cell_type": "code",
   "execution_count": null,
   "metadata": {},
   "outputs": [],
   "source": [
    "#only when csv does not exist\n",
    "save_id_csv(data_folder_path, race_to_label, save_path, image_per_id, num_id)\n",
    "race_id_select = pd.read_csv('./data/data.csv')"
   ]
  },
  {
   "cell_type": "markdown",
   "metadata": {},
   "source": [
    "#Main Function"
   ]
  },
  {
   "cell_type": "code",
   "execution_count": 3,
   "metadata": {},
   "outputs": [
    {
     "name": "stdout",
     "output_type": "stream",
     "text": [
      "0\n"
     ]
    }
   ],
   "source": [
    "#check overlap images\n",
    "data = pd.read_csv('./data/data.csv')\n",
    "#concate image_name and id \n",
    "data['image_name'] = data['image_name'].astype(str)\n",
    "data['id'] = data['id'].astype(str)\n",
    "data['image_id'] = data['image_name'] + data['id']\n",
    "#check overlap\n",
    "\n",
    "train_image = data[data['split'] == 'train']['image_id']\n",
    "test_image = data[data['split'] == 'test']['image_id']\n",
    "\n",
    "overlap = set(train_image).intersection(set(test_image))\n",
    "print(len(overlap))"
   ]
  },
  {
   "cell_type": "code",
   "execution_count": 16,
   "metadata": {},
   "outputs": [
    {
     "name": "stderr",
     "output_type": "stream",
     "text": [
      "Processing Images: 100%|██████████| 48000/48000 [45:27<00:00, 17.60it/s] "
     ]
    },
    {
     "name": "stdout",
     "output_type": "stream",
     "text": [
      "Finished copying and converting images to folder\n"
     ]
    },
    {
     "name": "stderr",
     "output_type": "stream",
     "text": [
      "\n"
     ]
    },
    {
     "ename": "NameError",
     "evalue": "name 'save_test_image' is not defined",
     "output_type": "error",
     "traceback": [
      "\u001b[0;31m---------------------------------------------------------------------------\u001b[0m",
      "\u001b[0;31mNameError\u001b[0m                                 Traceback (most recent call last)",
      "\u001b[1;32m/Users/nina/Desktop/SupContrast-ORE/data_process_mvp.ipynb Cell 28\u001b[0m line \u001b[0;36m3\n\u001b[1;32m      <a href='vscode-notebook-cell:/Users/nina/Desktop/SupContrast-ORE/data_process_mvp.ipynb#X41sZmlsZQ%3D%3D?line=0'>1</a>\u001b[0m save_train_image(race_id_select, data_folder_path, save_path\u001b[39m+\u001b[39m\u001b[39m'\u001b[39m\u001b[39m/train\u001b[39m\u001b[39m'\u001b[39m, label_to_race)\n\u001b[0;32m----> <a href='vscode-notebook-cell:/Users/nina/Desktop/SupContrast-ORE/data_process_mvp.ipynb#X41sZmlsZQ%3D%3D?line=2'>3</a>\u001b[0m save_test_image(race_id_select, data_folder_path, save_path\u001b[39m+\u001b[39m\u001b[39m'\u001b[39m\u001b[39m/test\u001b[39m\u001b[39m'\u001b[39m, label_to_race)\n",
      "\u001b[0;31mNameError\u001b[0m: name 'save_test_image' is not defined"
     ]
    }
   ],
   "source": [
    "#don't run unless making data folder\n",
    "# save_train_image(race_id_select, data_folder_path, save_path+'/train', label_to_race)\n",
    "# save_test_image(race_id_select, data_folder_path, save_path+'/test', label_to_race)"
   ]
  }
 ],
 "metadata": {
  "kernelspec": {
   "display_name": "Python 3",
   "language": "python",
   "name": "python3"
  },
  "language_info": {
   "codemirror_mode": {
    "name": "ipython",
    "version": 3
   },
   "file_extension": ".py",
   "mimetype": "text/x-python",
   "name": "python",
   "nbconvert_exporter": "python",
   "pygments_lexer": "ipython3",
   "version": "3.11.4"
  },
  "orig_nbformat": 4
 },
 "nbformat": 4,
 "nbformat_minor": 2
}
