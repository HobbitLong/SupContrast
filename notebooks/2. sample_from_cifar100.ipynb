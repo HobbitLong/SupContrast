{
 "cells": [
  {
   "attachments": {},
   "cell_type": "markdown",
   "metadata": {},
   "source": [
    "### Take some random samples from the CIFAR100 dataset and save them to disk."
   ]
  },
  {
   "cell_type": "code",
   "execution_count": 23,
   "metadata": {},
   "outputs": [],
   "source": [
    "import torch as T\n",
    "import torchvision as tv\n",
    "import torchvision.transforms as transforms\n",
    "import matplotlib.pyplot as plt\n",
    "import numpy as np\n",
    "from PIL import Image\n",
    "\n",
    "OUT_FOLDER = '..\\\\data\\\\input\\\\24specprep\\\\crops\\\\ood\\\\' #add to OOD data\n",
    "\n",
    "def imshow(img):\n",
    "  img = img / 2 + 0.5   # unnormalize\n",
    "  npimg = img.numpy()   # convert from tensor\n",
    "  plt.imshow(np.transpose(npimg, (1, 2, 0))) \n",
    "  plt.show()\n",
    "\n",
    "def main():\n",
    "  transform = transforms.Compose( [transforms.ToTensor(),\n",
    "    transforms.Normalize((0.5, 0.5, 0.5),\n",
    "      (0.5, 0.5, 0.5))])\n",
    "\n",
    "  trainset = tv.datasets.CIFAR100(root='..\\\\data\\\\input', train=False,\n",
    "    download=False, transform=transform)\n",
    "  trainloader = T.utils.data.DataLoader(trainset,\n",
    "    batch_size=100, shuffle=False, num_workers=1)\n",
    "\n",
    "  # classes = ('plane', 'car', 'bird', 'cat', 'deer', 'dog',\n",
    "  #   'frog', 'horse', 'ship', 'truck')\n",
    "\n",
    "  # get first 100 training images\n",
    "  dataiter = iter(trainloader)\n",
    "  imgs, lbls = next(dataiter)\n",
    "\n",
    "  for i in range(100):\n",
    "      # imshow(tv.utils.make_grid(imgs[i]))\n",
    "      \n",
    "      # Save Image\n",
    "      img = imgs[i] / 2 + 0.5\n",
    "      img = img.numpy()\n",
    "      plt.imsave(OUT_FOLDER + str(i) + '.jpg', np.transpose(img, (1, 2, 0)))\n",
    "      \n",
    "if __name__ == \"__main__\":\n",
    "  main()"
   ]
  }
 ],
 "metadata": {
  "kernelspec": {
   "display_name": ".venv",
   "language": "python",
   "name": "python3"
  },
  "language_info": {
   "codemirror_mode": {
    "name": "ipython",
    "version": 3
   },
   "file_extension": ".py",
   "mimetype": "text/x-python",
   "name": "python",
   "nbconvert_exporter": "python",
   "pygments_lexer": "ipython3",
   "version": "3.10.9"
  },
  "orig_nbformat": 4,
  "vscode": {
   "interpreter": {
    "hash": "55b71d4fa1e1eb7e4d1f8a8885020db8fb84302751fcbaeb34ae7bd908c864a6"
   }
  }
 },
 "nbformat": 4,
 "nbformat_minor": 2
}
